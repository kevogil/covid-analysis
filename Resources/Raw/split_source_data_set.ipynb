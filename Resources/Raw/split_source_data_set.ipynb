{
 "cells": [
  {
   "cell_type": "code",
   "execution_count": 1,
   "id": "19121002-c828-4841-8991-61bb79be3ecb",
   "metadata": {},
   "outputs": [],
   "source": [
    "import pandas as pd"
   ]
  },
  {
   "cell_type": "code",
   "execution_count": 19,
   "id": "70f17307-600c-401c-b321-813f17403a11",
   "metadata": {},
   "outputs": [],
   "source": [
    "reader = pd.read_csv(\"COVID-19_Case_Surveillance_Public_Use_Data_with_Geography.csv\",\n",
    "                     chunksize=3600000,\n",
    "                     low_memory=False)\n",
    "# chunk_df = next(reader)\n",
    "# i = 1\n",
    "# chunk_df.to_csv(f\"covid19_case_data/{i}_Case_Surveillance_Public_Use_Data.csv\")"
   ]
  },
  {
   "cell_type": "code",
   "execution_count": 20,
   "id": "a6454927-5f80-41ea-b169-ea85b4950b52",
   "metadata": {},
   "outputs": [
    {
     "name": "stdout",
     "output_type": "stream",
     "text": [
      "Saving chunk:  0\n",
      "Saving chunk:  1\n",
      "Saving chunk:  2\n",
      "Saving chunk:  3\n",
      "Saving chunk:  4\n",
      "Saving chunk:  5\n",
      "Saving chunk:  6\n",
      "Saving chunk:  7\n"
     ]
    }
   ],
   "source": [
    "for i, chunk_df in enumerate(reader):\n",
    "    print(\"Saving chunk: \",i)\n",
    "    chunk_df.to_csv(f\"covid19_case_data/{i}_Case_Surveillance_Public_Use_Data.csv\")"
   ]
  }
 ],
 "metadata": {
  "kernelspec": {
   "display_name": "Python 3",
   "language": "python",
   "name": "python3"
  },
  "language_info": {
   "codemirror_mode": {
    "name": "ipython",
    "version": 3
   },
   "file_extension": ".py",
   "mimetype": "text/x-python",
   "name": "python",
   "nbconvert_exporter": "python",
   "pygments_lexer": "ipython3",
   "version": "3.8.8"
  }
 },
 "nbformat": 4,
 "nbformat_minor": 5
}
