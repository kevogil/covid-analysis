{
 "cells": [
  {
   "cell_type": "code",
   "execution_count": 10,
   "id": "d4fdc1c4-4fde-40a3-ac28-c90a76b7a08e",
   "metadata": {},
   "outputs": [],
   "source": [
    "# Import dependencies\n",
    "import matplotlib.pyplot as plt\n",
    "import pandas as pd\n",
    "import pathlib\n",
    "\n",
    "# Identifying CSV file path\n",
    "county_demographic_csv = pathlib.Path('../../Resources/Clean/ca_county_demographic_data-20210804.csv')\n",
    "ca_covid_csv = pathlib.Path('../../Resources/Clean/ca_county_demographic_data-20210804.csv')"
   ]
  },
  {
   "cell_type": "code",
   "execution_count": 11,
   "id": "adf370d9-2dfd-4c84-aa69-f8dd3c0c1ac3",
   "metadata": {},
   "outputs": [],
   "source": [
    "# Reading CSV files\n",
    "county_demographic_df = pd.read_csv(county_demographic_csv)\n",
    "ca_covid_df = pd.read_csv(ca_covid_csv)"
   ]
  },
  {
   "cell_type": "code",
   "execution_count": null,
   "id": "fff1fe94-ca9c-4a86-b58f-32946fba7d72",
   "metadata": {},
   "outputs": [],
   "source": []
  }
 ],
 "metadata": {
  "kernelspec": {
   "display_name": "Python 3",
   "language": "python",
   "name": "python3"
  },
  "language_info": {
   "codemirror_mode": {
    "name": "ipython",
    "version": 3
   },
   "file_extension": ".py",
   "mimetype": "text/x-python",
   "name": "python",
   "nbconvert_exporter": "python",
   "pygments_lexer": "ipython3",
   "version": "3.8.8"
  }
 },
 "nbformat": 4,
 "nbformat_minor": 5
}
