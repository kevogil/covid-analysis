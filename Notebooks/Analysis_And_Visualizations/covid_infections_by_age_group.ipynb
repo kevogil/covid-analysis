{
 "cells": [
  {
   "cell_type": "markdown",
   "id": "cf157979-a9fc-4b2c-a28f-1927c049846e",
   "metadata": {},
   "source": [
    "In this notebook we are going to take age group data from a California (by county) demographics dataset and compare them with Covid case counts per month of those same age groups.  Were any age groups impacted disproportionately given their percentage of cases and percentage of the population?"
   ]
  },
  {
   "cell_type": "code",
   "execution_count": 1,
   "id": "b608c7d5-06fc-432b-8515-31436dc73bb7",
   "metadata": {},
   "outputs": [],
   "source": [
    "# import the various modules needed\n",
    "%matplotlib inline\n",
    "import pandas as pd\n",
    "import matplotlib.pyplot as plt\n",
    "import pathlib\n",
    "import numpy as np"
   ]
  },
  {
   "cell_type": "markdown",
   "id": "1e80923c-8fbb-4885-9922-80fb12d173e3",
   "metadata": {},
   "source": [
    "DEMOGRAPHICS DATA: Pull in the dataset.  Get columns required for analysis.  Calculate additional quantity columns needed for each age group.  Get population counts for each age group, for population total.  Get percentages of each age group of total population."
   ]
  },
  {
   "cell_type": "code",
   "execution_count": 2,
   "id": "9affc947-eb15-4172-b557-29237ec19c08",
   "metadata": {},
   "outputs": [
    {
     "data": {
      "text/html": [
       "<div>\n",
       "<style scoped>\n",
       "    .dataframe tbody tr th:only-of-type {\n",
       "        vertical-align: middle;\n",
       "    }\n",
       "\n",
       "    .dataframe tbody tr th {\n",
       "        vertical-align: top;\n",
       "    }\n",
       "\n",
       "    .dataframe thead th {\n",
       "        text-align: right;\n",
       "    }\n",
       "</style>\n",
       "<table border=\"1\" class=\"dataframe\">\n",
       "  <thead>\n",
       "    <tr style=\"text-align: right;\">\n",
       "      <th></th>\n",
       "      <th>FIPS Code</th>\n",
       "      <th>County</th>\n",
       "      <th>Cumulative Cases (2020-02-01 - 2021-31-07)</th>\n",
       "      <th>Cumulative Deaths (2020-02-01 - 2021-31-07)</th>\n",
       "      <th>Cumulative Deaths /Cases (calculated by EK)</th>\n",
       "      <th>Cases per capita (calculated by EK)</th>\n",
       "      <th>Deaths per capita (calculated by EK)</th>\n",
       "      <th>Total Population</th>\n",
       "      <th>Population density (people per sq. mile):\\t</th>\n",
       "      <th>Pop % Less Than 18 Years of Age</th>\n",
       "      <th>...</th>\n",
       "      <th># Uninsured (Adults)</th>\n",
       "      <th>% Uninsured (Adults)</th>\n",
       "      <th>% Uninsured (Adults) Error Margin</th>\n",
       "      <th># Uninsured (Children)</th>\n",
       "      <th>% Uninsured (Children)</th>\n",
       "      <th>% Uninsured (Children) Error Margin</th>\n",
       "      <th>% Frequent Mental Distress</th>\n",
       "      <th>% Frequent Mental Distress Error Margin</th>\n",
       "      <th>% Frequent Physical Distress</th>\n",
       "      <th>% Frequent Physical Distress Error Margin</th>\n",
       "    </tr>\n",
       "  </thead>\n",
       "  <tbody>\n",
       "    <tr>\n",
       "      <th>53</th>\n",
       "      <td>6107</td>\n",
       "      <td>Tulare</td>\n",
       "      <td>50626</td>\n",
       "      <td>854</td>\n",
       "      <td>0.016869</td>\n",
       "      <td>0.108594</td>\n",
       "      <td>0.001832</td>\n",
       "      <td>466,195</td>\n",
       "      <td>96.63</td>\n",
       "      <td>30.5</td>\n",
       "      <td>...</td>\n",
       "      <td>31,986</td>\n",
       "      <td>12</td>\n",
       "      <td>11-13%</td>\n",
       "      <td>4,593</td>\n",
       "      <td>3</td>\n",
       "      <td>2-4%</td>\n",
       "      <td>16</td>\n",
       "      <td>14-17%</td>\n",
       "      <td>17</td>\n",
       "      <td>16-18%</td>\n",
       "    </tr>\n",
       "    <tr>\n",
       "      <th>54</th>\n",
       "      <td>6109</td>\n",
       "      <td>Tuolumne</td>\n",
       "      <td>4522</td>\n",
       "      <td>59</td>\n",
       "      <td>0.013047</td>\n",
       "      <td>0.083006</td>\n",
       "      <td>0.001083</td>\n",
       "      <td>54,478</td>\n",
       "      <td>24.53</td>\n",
       "      <td>16.8</td>\n",
       "      <td>...</td>\n",
       "      <td>2,072</td>\n",
       "      <td>7</td>\n",
       "      <td>6-9%</td>\n",
       "      <td>275</td>\n",
       "      <td>3</td>\n",
       "      <td>2-4%</td>\n",
       "      <td>14</td>\n",
       "      <td>13-16%</td>\n",
       "      <td>13</td>\n",
       "      <td>12-15%</td>\n",
       "    </tr>\n",
       "    <tr>\n",
       "      <th>55</th>\n",
       "      <td>6111</td>\n",
       "      <td>Ventura</td>\n",
       "      <td>84114</td>\n",
       "      <td>1036</td>\n",
       "      <td>0.012317</td>\n",
       "      <td>0.099425</td>\n",
       "      <td>0.001225</td>\n",
       "      <td>846,006</td>\n",
       "      <td>459.17</td>\n",
       "      <td>22.6</td>\n",
       "      <td>...</td>\n",
       "      <td>61,204</td>\n",
       "      <td>12</td>\n",
       "      <td>11-13%</td>\n",
       "      <td>6,301</td>\n",
       "      <td>3</td>\n",
       "      <td>2-4%</td>\n",
       "      <td>12</td>\n",
       "      <td>11-14%</td>\n",
       "      <td>12</td>\n",
       "      <td>11-14%</td>\n",
       "    </tr>\n",
       "    <tr>\n",
       "      <th>56</th>\n",
       "      <td>6113</td>\n",
       "      <td>Yolo</td>\n",
       "      <td>15069</td>\n",
       "      <td>215</td>\n",
       "      <td>0.014268</td>\n",
       "      <td>0.068340</td>\n",
       "      <td>0.000975</td>\n",
       "      <td>220,500</td>\n",
       "      <td>217.3</td>\n",
       "      <td>20.8</td>\n",
       "      <td>...</td>\n",
       "      <td>11,368</td>\n",
       "      <td>8</td>\n",
       "      <td>7-9%</td>\n",
       "      <td>1,323</td>\n",
       "      <td>3</td>\n",
       "      <td>2-4%</td>\n",
       "      <td>13</td>\n",
       "      <td>12-14%</td>\n",
       "      <td>13</td>\n",
       "      <td>11-14%</td>\n",
       "    </tr>\n",
       "    <tr>\n",
       "      <th>57</th>\n",
       "      <td>6115</td>\n",
       "      <td>Yuba</td>\n",
       "      <td>6730</td>\n",
       "      <td>49</td>\n",
       "      <td>0.007281</td>\n",
       "      <td>0.085549</td>\n",
       "      <td>0.000623</td>\n",
       "      <td>78,668</td>\n",
       "      <td>124.47</td>\n",
       "      <td>27.4</td>\n",
       "      <td>...</td>\n",
       "      <td>4,632</td>\n",
       "      <td>10</td>\n",
       "      <td>9-12%</td>\n",
       "      <td>607</td>\n",
       "      <td>3</td>\n",
       "      <td>2-4%</td>\n",
       "      <td>15</td>\n",
       "      <td>14-16%</td>\n",
       "      <td>15</td>\n",
       "      <td>14-16%</td>\n",
       "    </tr>\n",
       "  </tbody>\n",
       "</table>\n",
       "<p>5 rows × 54 columns</p>\n",
       "</div>"
      ],
      "text/plain": [
       "    FIPS Code    County  Cumulative Cases (2020-02-01 - 2021-31-07)  \\\n",
       "53       6107    Tulare                                       50626   \n",
       "54       6109  Tuolumne                                        4522   \n",
       "55       6111   Ventura                                       84114   \n",
       "56       6113      Yolo                                       15069   \n",
       "57       6115      Yuba                                        6730   \n",
       "\n",
       "    Cumulative Deaths (2020-02-01 - 2021-31-07)  \\\n",
       "53                                          854   \n",
       "54                                           59   \n",
       "55                                         1036   \n",
       "56                                          215   \n",
       "57                                           49   \n",
       "\n",
       "    Cumulative Deaths /Cases (calculated by EK)  \\\n",
       "53                                     0.016869   \n",
       "54                                     0.013047   \n",
       "55                                     0.012317   \n",
       "56                                     0.014268   \n",
       "57                                     0.007281   \n",
       "\n",
       "    Cases per capita (calculated by EK)  Deaths per capita (calculated by EK)  \\\n",
       "53                             0.108594                              0.001832   \n",
       "54                             0.083006                              0.001083   \n",
       "55                             0.099425                              0.001225   \n",
       "56                             0.068340                              0.000975   \n",
       "57                             0.085549                              0.000623   \n",
       "\n",
       "   Total Population Population density (people per sq. mile):\\t  \\\n",
       "53          466,195                                       96.63   \n",
       "54           54,478                                       24.53   \n",
       "55          846,006                                      459.17   \n",
       "56          220,500                                       217.3   \n",
       "57           78,668                                      124.47   \n",
       "\n",
       "    Pop % Less Than 18 Years of Age  ...  # Uninsured (Adults)  \\\n",
       "53                             30.5  ...                31,986   \n",
       "54                             16.8  ...                 2,072   \n",
       "55                             22.6  ...                61,204   \n",
       "56                             20.8  ...                11,368   \n",
       "57                             27.4  ...                 4,632   \n",
       "\n",
       "   % Uninsured (Adults)  % Uninsured (Adults) Error Margin  \\\n",
       "53                   12                             11-13%   \n",
       "54                    7                               6-9%   \n",
       "55                   12                             11-13%   \n",
       "56                    8                               7-9%   \n",
       "57                   10                              9-12%   \n",
       "\n",
       "   # Uninsured (Children)  % Uninsured (Children)  \\\n",
       "53                  4,593                       3   \n",
       "54                    275                       3   \n",
       "55                  6,301                       3   \n",
       "56                  1,323                       3   \n",
       "57                    607                       3   \n",
       "\n",
       "   % Uninsured (Children) Error Margin  % Frequent Mental Distress  \\\n",
       "53                                2-4%                          16   \n",
       "54                                2-4%                          14   \n",
       "55                                2-4%                          12   \n",
       "56                                2-4%                          13   \n",
       "57                                2-4%                          15   \n",
       "\n",
       "   % Frequent Mental Distress Error Margin  % Frequent Physical Distress  \\\n",
       "53                                  14-17%                            17   \n",
       "54                                  13-16%                            13   \n",
       "55                                  11-14%                            12   \n",
       "56                                  12-14%                            13   \n",
       "57                                  14-16%                            15   \n",
       "\n",
       "   % Frequent Physical Distress Error Margin  \n",
       "53                                    16-18%  \n",
       "54                                    12-15%  \n",
       "55                                    11-14%  \n",
       "56                                    11-14%  \n",
       "57                                    14-16%  \n",
       "\n",
       "[5 rows x 54 columns]"
      ]
     },
     "execution_count": 2,
     "metadata": {},
     "output_type": "execute_result"
    }
   ],
   "source": [
    "# Read demographics data into dataframe and drop last line containing NaN\n",
    "demographfile = \"../../Resources/Clean/ca_county_demographic_data-20210804.csv\"\n",
    "demograph_df = pd.read_csv(demographfile).dropna(subset=[\"FIPS Code\"])\n",
    "demograph_df.tail()"
   ]
  },
  {
   "cell_type": "code",
   "execution_count": 3,
   "id": "3586daf9-2326-4eb3-880e-1eba852f2720",
   "metadata": {},
   "outputs": [
    {
     "data": {
      "text/html": [
       "<div>\n",
       "<style scoped>\n",
       "    .dataframe tbody tr th:only-of-type {\n",
       "        vertical-align: middle;\n",
       "    }\n",
       "\n",
       "    .dataframe tbody tr th {\n",
       "        vertical-align: top;\n",
       "    }\n",
       "\n",
       "    .dataframe thead th {\n",
       "        text-align: right;\n",
       "    }\n",
       "</style>\n",
       "<table border=\"1\" class=\"dataframe\">\n",
       "  <thead>\n",
       "    <tr style=\"text-align: right;\">\n",
       "      <th></th>\n",
       "      <th>County</th>\n",
       "      <th>Total Population</th>\n",
       "      <th>Pop % 65 and Over</th>\n",
       "      <th>Pop % Less Than 18 Years of Age</th>\n",
       "    </tr>\n",
       "  </thead>\n",
       "  <tbody>\n",
       "    <tr>\n",
       "      <th>0</th>\n",
       "      <td>Alameda</td>\n",
       "      <td>1671329.0</td>\n",
       "      <td>14.3</td>\n",
       "      <td>20.3</td>\n",
       "    </tr>\n",
       "    <tr>\n",
       "      <th>1</th>\n",
       "      <td>Alpine</td>\n",
       "      <td>1129.0</td>\n",
       "      <td>26.4</td>\n",
       "      <td>17.7</td>\n",
       "    </tr>\n",
       "    <tr>\n",
       "      <th>2</th>\n",
       "      <td>Amador</td>\n",
       "      <td>39752.0</td>\n",
       "      <td>27.5</td>\n",
       "      <td>15.1</td>\n",
       "    </tr>\n",
       "    <tr>\n",
       "      <th>3</th>\n",
       "      <td>Butte</td>\n",
       "      <td>219186.0</td>\n",
       "      <td>18.4</td>\n",
       "      <td>20.3</td>\n",
       "    </tr>\n",
       "    <tr>\n",
       "      <th>4</th>\n",
       "      <td>Calaveras</td>\n",
       "      <td>45905.0</td>\n",
       "      <td>28.0</td>\n",
       "      <td>17.1</td>\n",
       "    </tr>\n",
       "  </tbody>\n",
       "</table>\n",
       "</div>"
      ],
      "text/plain": [
       "      County  Total Population  Pop % 65 and Over  \\\n",
       "0    Alameda         1671329.0               14.3   \n",
       "1     Alpine            1129.0               26.4   \n",
       "2     Amador           39752.0               27.5   \n",
       "3      Butte          219186.0               18.4   \n",
       "4  Calaveras           45905.0               28.0   \n",
       "\n",
       "   Pop % Less Than 18 Years of Age  \n",
       "0                             20.3  \n",
       "1                             17.7  \n",
       "2                             15.1  \n",
       "3                             20.3  \n",
       "4                             17.1  "
      ]
     },
     "execution_count": 3,
     "metadata": {},
     "output_type": "execute_result"
    }
   ],
   "source": [
    "# Fix the data types in demographics dataframe\n",
    "demograph_df[\"Total Population\"] = demograph_df[\"Total Population\"].str.replace(',', '').astype(float)\n",
    "# Get age related subset of columns needed for analysis\n",
    "demo_age_df = demograph_df[[\"County\",\"Total Population\",\"Pop % 65 and Over\", \"Pop % Less Than 18 Years of Age\"]].copy()\n",
    "demo_age_df.head()"
   ]
  },
  {
   "cell_type": "code",
   "execution_count": 4,
   "id": "7a514302-cc04-4325-a3dc-bad4bc294d1b",
   "metadata": {},
   "outputs": [
    {
     "data": {
      "text/html": [
       "<div>\n",
       "<style scoped>\n",
       "    .dataframe tbody tr th:only-of-type {\n",
       "        vertical-align: middle;\n",
       "    }\n",
       "\n",
       "    .dataframe tbody tr th {\n",
       "        vertical-align: top;\n",
       "    }\n",
       "\n",
       "    .dataframe thead th {\n",
       "        text-align: right;\n",
       "    }\n",
       "</style>\n",
       "<table border=\"1\" class=\"dataframe\">\n",
       "  <thead>\n",
       "    <tr style=\"text-align: right;\">\n",
       "      <th></th>\n",
       "      <th>County</th>\n",
       "      <th>Total Population</th>\n",
       "      <th>Pop % 65 and Over</th>\n",
       "      <th>Pop % Less Than 18 Years of Age</th>\n",
       "      <th>Pop # 0 to 17</th>\n",
       "      <th>Pop # 18 to 64</th>\n",
       "      <th>Pop # 65 to up</th>\n",
       "    </tr>\n",
       "  </thead>\n",
       "  <tbody>\n",
       "    <tr>\n",
       "      <th>0</th>\n",
       "      <td>Alameda</td>\n",
       "      <td>1671329.0</td>\n",
       "      <td>14.3</td>\n",
       "      <td>20.3</td>\n",
       "      <td>339279.787</td>\n",
       "      <td>1093049.166</td>\n",
       "      <td>239000.047</td>\n",
       "    </tr>\n",
       "    <tr>\n",
       "      <th>1</th>\n",
       "      <td>Alpine</td>\n",
       "      <td>1129.0</td>\n",
       "      <td>26.4</td>\n",
       "      <td>17.7</td>\n",
       "      <td>199.833</td>\n",
       "      <td>631.111</td>\n",
       "      <td>298.056</td>\n",
       "    </tr>\n",
       "    <tr>\n",
       "      <th>2</th>\n",
       "      <td>Amador</td>\n",
       "      <td>39752.0</td>\n",
       "      <td>27.5</td>\n",
       "      <td>15.1</td>\n",
       "      <td>6002.552</td>\n",
       "      <td>22817.648</td>\n",
       "      <td>10931.800</td>\n",
       "    </tr>\n",
       "    <tr>\n",
       "      <th>3</th>\n",
       "      <td>Butte</td>\n",
       "      <td>219186.0</td>\n",
       "      <td>18.4</td>\n",
       "      <td>20.3</td>\n",
       "      <td>44494.758</td>\n",
       "      <td>134361.018</td>\n",
       "      <td>40330.224</td>\n",
       "    </tr>\n",
       "    <tr>\n",
       "      <th>4</th>\n",
       "      <td>Calaveras</td>\n",
       "      <td>45905.0</td>\n",
       "      <td>28.0</td>\n",
       "      <td>17.1</td>\n",
       "      <td>7849.755</td>\n",
       "      <td>25201.845</td>\n",
       "      <td>12853.400</td>\n",
       "    </tr>\n",
       "  </tbody>\n",
       "</table>\n",
       "</div>"
      ],
      "text/plain": [
       "      County  Total Population  Pop % 65 and Over  \\\n",
       "0    Alameda         1671329.0               14.3   \n",
       "1     Alpine            1129.0               26.4   \n",
       "2     Amador           39752.0               27.5   \n",
       "3      Butte          219186.0               18.4   \n",
       "4  Calaveras           45905.0               28.0   \n",
       "\n",
       "   Pop % Less Than 18 Years of Age  Pop # 0 to 17  Pop # 18 to 64  \\\n",
       "0                             20.3     339279.787     1093049.166   \n",
       "1                             17.7        199.833         631.111   \n",
       "2                             15.1       6002.552       22817.648   \n",
       "3                             20.3      44494.758      134361.018   \n",
       "4                             17.1       7849.755       25201.845   \n",
       "\n",
       "   Pop # 65 to up  \n",
       "0      239000.047  \n",
       "1         298.056  \n",
       "2       10931.800  \n",
       "3       40330.224  \n",
       "4       12853.400  "
      ]
     },
     "execution_count": 4,
     "metadata": {},
     "output_type": "execute_result"
    }
   ],
   "source": [
    "# Extrapolate population quantity totals in each county for age groups, save in age groups df\n",
    "pop_total_count  = demo_age_df[\"Total Population\"]\n",
    "pop_pct_under_18 = demo_age_df[\"Pop % Less Than 18 Years of Age\"]\n",
    "pop_pct_over_65  = demo_age_df[\"Pop % 65 and Over\"]\n",
    "demo_age_df[\"Pop # 0 to 17\"]  = pop_total_count * pop_pct_under_18 / 100\n",
    "demo_age_df[\"Pop # 18 to 64\"] = pop_total_count * (100 - pop_pct_under_18 - pop_pct_over_65) / 100\n",
    "demo_age_df[\"Pop # 65 to up\"] = pop_total_count * pop_pct_over_65 / 100\n",
    "demo_age_df.head()"
   ]
  },
  {
   "cell_type": "code",
   "execution_count": 5,
   "id": "83210268-04af-4294-86a8-148c69c46cd4",
   "metadata": {},
   "outputs": [
    {
     "data": {
      "text/plain": [
       "Total Population    39512223.0\n",
       "Pop # 0 to 17        8898202.0\n",
       "Pop # 18 to 64      24774548.0\n",
       "Pop # 65 to up       5839475.0\n",
       "dtype: float64"
      ]
     },
     "execution_count": 5,
     "metadata": {},
     "output_type": "execute_result"
    }
   ],
   "source": [
    "# Get sum population per age group and total population for California from demographics\n",
    "demo_age_summary = demo_age_df[[\"Total Population\", \"Pop # 0 to 17\", \"Pop # 18 to 64\", \"Pop # 65 to up\"]].round().sum()\n",
    "demo_age_summary"
   ]
  },
  {
   "cell_type": "code",
   "execution_count": 6,
   "id": "a15a7958-7d48-426c-a1cb-dad6ef67765f",
   "metadata": {},
   "outputs": [
    {
     "data": {
      "text/plain": [
       "(22.520124974998243, 62.70097230419053, 14.778907782536052)"
      ]
     },
     "execution_count": 6,
     "metadata": {},
     "output_type": "execute_result"
    }
   ],
   "source": [
    "# Calculate percent of total California population that each age group represents\n",
    "## Give shorter friendlier names for specific columns\n",
    "pop_CA_0_17 = demo_age_summary[\"Pop # 0 to 17\"]\n",
    "pop_CA_18_64 = demo_age_summary[\"Pop # 18 to 64\"]\n",
    "pop_CA_65_up = demo_age_summary[\"Pop # 65 to up\"]\n",
    "pop_CA_total = demo_age_summary[\"Total Population\"]\n",
    "\n",
    "## Calculate and print population percentages for each age group for California\n",
    "pop_pct_CA_0_17  = pop_CA_0_17  * 100 / pop_CA_total\n",
    "pop_pct_CA_18_64 = pop_CA_18_64 * 100 / pop_CA_total\n",
    "pop_pct_CA_65_up = pop_CA_65_up * 100 / pop_CA_total\n",
    "pop_pct_CA_0_17, pop_pct_CA_18_64, pop_pct_CA_65_up"
   ]
  },
  {
   "cell_type": "markdown",
   "id": "4fe77bd9-5083-43c3-9b6d-792b0416802d",
   "metadata": {},
   "source": [
    "COVID CASES DATA: Pull in the cleaned dataset.  Contains cases by row of each individual case reported in California by date, sex, age group, county, etc. Get columns required for analysis. Give each age group its own dataframe of data."
   ]
  },
  {
   "cell_type": "code",
   "execution_count": 7,
   "id": "83eccdbc-d513-48b7-93f3-29e4517d86c5",
   "metadata": {},
   "outputs": [
    {
     "data": {
      "text/plain": [
       "18 to 49 years    2130719\n",
       "50 to 64 years     702472\n",
       "0 - 17 years       484140\n",
       "65+ years          389319\n",
       "Unknown              8377\n",
       "Name: age_group, dtype: int64"
      ]
     },
     "execution_count": 7,
     "metadata": {},
     "output_type": "execute_result"
    }
   ],
   "source": [
    "# Read in the monthly individual cases data from California into dataframe\n",
    "cases_file = \"../../Resources/Clean/ca_data_df.csv\"\n",
    "cases_df = pd.read_csv(cases_file)\n",
    "cases_df[\"age_group\"].value_counts()"
   ]
  },
  {
   "cell_type": "code",
   "execution_count": 8,
   "id": "8522948d-53fd-44f8-8225-aa48da48c9c1",
   "metadata": {},
   "outputs": [
    {
     "data": {
      "text/html": [
       "<div>\n",
       "<style scoped>\n",
       "    .dataframe tbody tr th:only-of-type {\n",
       "        vertical-align: middle;\n",
       "    }\n",
       "\n",
       "    .dataframe tbody tr th {\n",
       "        vertical-align: top;\n",
       "    }\n",
       "\n",
       "    .dataframe thead th {\n",
       "        text-align: right;\n",
       "    }\n",
       "</style>\n",
       "<table border=\"1\" class=\"dataframe\">\n",
       "  <thead>\n",
       "    <tr style=\"text-align: right;\">\n",
       "      <th></th>\n",
       "      <th>case_month</th>\n",
       "      <th>age_group</th>\n",
       "    </tr>\n",
       "  </thead>\n",
       "  <tbody>\n",
       "    <tr>\n",
       "      <th>0</th>\n",
       "      <td>2020-12</td>\n",
       "      <td>0 - 17 years</td>\n",
       "    </tr>\n",
       "    <tr>\n",
       "      <th>1</th>\n",
       "      <td>2021-03</td>\n",
       "      <td>0 - 17 years</td>\n",
       "    </tr>\n",
       "    <tr>\n",
       "      <th>2</th>\n",
       "      <td>2021-01</td>\n",
       "      <td>0 - 17 years</td>\n",
       "    </tr>\n",
       "    <tr>\n",
       "      <th>3</th>\n",
       "      <td>2020-11</td>\n",
       "      <td>18 to 49 years</td>\n",
       "    </tr>\n",
       "    <tr>\n",
       "      <th>4</th>\n",
       "      <td>2021-01</td>\n",
       "      <td>65+ years</td>\n",
       "    </tr>\n",
       "  </tbody>\n",
       "</table>\n",
       "</div>"
      ],
      "text/plain": [
       "  case_month       age_group\n",
       "0    2020-12    0 - 17 years\n",
       "1    2021-03    0 - 17 years\n",
       "2    2021-01    0 - 17 years\n",
       "3    2020-11  18 to 49 years\n",
       "4    2021-01       65+ years"
      ]
     },
     "execution_count": 8,
     "metadata": {},
     "output_type": "execute_result"
    }
   ],
   "source": [
    "# Create a subset of columns from the cases for our age_group analysis\n",
    "cases_agegroup_df = cases_df[[\"case_month\", \"age_group\"]].copy()\n",
    "cases_agegroup_df.head()"
   ]
  },
  {
   "cell_type": "code",
   "execution_count": 9,
   "id": "ef29ac7e-9020-44be-bde9-255634aa03f3",
   "metadata": {},
   "outputs": [],
   "source": [
    "# Group the cases by case_month then count the cases.  One df per age group, one df for totals\n",
    "## Define Filters\n",
    "age_group_0_17  = (cases_agegroup_df[\"age_group\"] == \"0 - 17 years\")\n",
    "age_group_18_49 = (cases_agegroup_df[\"age_group\"] == \"18 to 49 years\")\n",
    "age_group_50_64 = (cases_agegroup_df[\"age_group\"] == \"50 to 64 years\")\n",
    "age_group_18_64 = age_group_18_49 | age_group_50_64\n",
    "age_group_65_up = (cases_agegroup_df[\"age_group\"] == \"65+ years\")\n",
    "age_group_all   = age_group_0_17 | age_group_18_49 | age_group_50_64 | age_group_65_up\n",
    "\n",
    "## Group by case_month and then count cases.  Include one for grand total\n",
    "cases_0_17_df   = (cases_agegroup_df\n",
    "                   .loc[age_group_0_17]\n",
    "#                    .rename(columns={\"age_group\": \"0 to 17\"})\n",
    "                   .groupby(by=\"case_month\")\n",
    "                   .count()\n",
    "                   .copy()\n",
    "                  )\n",
    "cases_18_49_df   = (cases_agegroup_df\n",
    "                   .loc[age_group_18_49]\n",
    "#                    .rename(columns={\"age_group\": \"18 to 49\"})\n",
    "                   .groupby(by=\"case_month\")\n",
    "                   .count()\n",
    "                   .copy()\n",
    "                  )\n",
    "cases_50_64_df   = (cases_agegroup_df\n",
    "                   .loc[age_group_50_64]\n",
    "#                    .rename(columns={\"age_group\": \"50 to 64\"})\n",
    "                   .groupby(by=\"case_month\")\n",
    "                   .count()\n",
    "                   .copy()\n",
    "                  )\n",
    "cases_18_64_df   = (cases_agegroup_df\n",
    "                   .loc[age_group_18_64]\n",
    "#                    .rename(columns={\"age_group\": \"18 to 64\"})\n",
    "                   .groupby(by=\"case_month\")\n",
    "                   .count()\n",
    "                   .copy()\n",
    "                  )\n",
    "cases_65_up_df   = (cases_agegroup_df\n",
    "                   .loc[age_group_65_up]\n",
    "#                    .rename(columns={\"age_group\": \"65 and up\"})\n",
    "                   .groupby(by=\"case_month\")\n",
    "                   .count()\n",
    "                   .copy()\n",
    "                  )\n",
    "cases_total_df   = (cases_agegroup_df\n",
    "                    .loc[age_group_all]\n",
    "#                    .rename(columns={\"age_group\": \"all ages\"})\n",
    "                   .groupby(by=\"case_month\")\n",
    "                   .count()\n",
    "                   .copy()\n",
    "                  )"
   ]
  },
  {
   "cell_type": "code",
   "execution_count": 10,
   "id": "67ff7ea8-aeab-49a4-bcba-f7115ea6b34b",
   "metadata": {},
   "outputs": [
    {
     "data": {
      "text/html": [
       "<div>\n",
       "<style scoped>\n",
       "    .dataframe tbody tr th:only-of-type {\n",
       "        vertical-align: middle;\n",
       "    }\n",
       "\n",
       "    .dataframe tbody tr th {\n",
       "        vertical-align: top;\n",
       "    }\n",
       "\n",
       "    .dataframe thead th {\n",
       "        text-align: right;\n",
       "    }\n",
       "</style>\n",
       "<table border=\"1\" class=\"dataframe\">\n",
       "  <thead>\n",
       "    <tr style=\"text-align: right;\">\n",
       "      <th></th>\n",
       "      <th>age_group</th>\n",
       "    </tr>\n",
       "    <tr>\n",
       "      <th>case_month</th>\n",
       "      <th></th>\n",
       "    </tr>\n",
       "  </thead>\n",
       "  <tbody>\n",
       "    <tr>\n",
       "      <th>2020-01</th>\n",
       "      <td>19.369369</td>\n",
       "    </tr>\n",
       "    <tr>\n",
       "      <th>2020-02</th>\n",
       "      <td>28.787879</td>\n",
       "    </tr>\n",
       "    <tr>\n",
       "      <th>2020-03</th>\n",
       "      <td>28.048250</td>\n",
       "    </tr>\n",
       "    <tr>\n",
       "      <th>2020-04</th>\n",
       "      <td>24.116912</td>\n",
       "    </tr>\n",
       "    <tr>\n",
       "      <th>2020-05</th>\n",
       "      <td>20.878698</td>\n",
       "    </tr>\n",
       "  </tbody>\n",
       "</table>\n",
       "</div>"
      ],
      "text/plain": [
       "            age_group\n",
       "case_month           \n",
       "2020-01     19.369369\n",
       "2020-02     28.787879\n",
       "2020-03     28.048250\n",
       "2020-04     24.116912\n",
       "2020-05     20.878698"
      ]
     },
     "execution_count": 10,
     "metadata": {},
     "output_type": "execute_result"
    }
   ],
   "source": [
    "# Calculate percent of total cases per month that each age group comprised\n",
    "pct_monthly_0_17  = (cases_0_17_df * 100 / cases_total_df).copy()\n",
    "pct_monthly_18_49 = (cases_18_49_df * 100 / cases_total_df).copy()\n",
    "pct_monthly_18_64 = (cases_18_64_df * 100 / cases_total_df).copy()\n",
    "pct_monthly_50_64 = (cases_50_64_df * 100 / cases_total_df).copy()\n",
    "pct_monthly_65_up = (cases_65_up_df * 100 / cases_total_df).copy()\n",
    "pct_monthly_50_64.head()"
   ]
  },
  {
   "cell_type": "code",
   "execution_count": 11,
   "id": "0e6e6679-666a-4b74-bfb0-12a50eb5df3c",
   "metadata": {},
   "outputs": [],
   "source": [
    "# Rename the \"age_group\" column for the affected dataframes after doing the pct math\n",
    "cases_0_17_df     = cases_0_17_df.rename(columns={\"age_group\": \"0 to 17\"})\n",
    "cases_18_49_df    = cases_18_49_df.rename(columns={\"age_group\": \"18 to 49\"})\n",
    "cases_18_64_df    = cases_18_64_df.rename(columns={\"age_group\": \"18 to 64\"})\n",
    "cases_50_64_df    = cases_50_64_df.rename(columns={\"age_group\": \"50 to 64\"})\n",
    "cases_65_up_df    = cases_65_up_df.rename(columns={\"age_group\": \"65 and up\"})\n",
    "cases_total_df    = cases_total_df.rename(columns={\"age_group\": \"all ages\"})\n",
    "pct_monthly_0_17  = pct_monthly_0_17.rename(columns={\"age_group\": \"0 to 17\"})\n",
    "pct_monthly_18_49 = pct_monthly_18_49.rename(columns={\"age_group\": \"18 to 49\"})\n",
    "pct_monthly_18_64 = pct_monthly_18_64.rename(columns={\"age_group\": \"18 to 64\"})\n",
    "pct_monthly_50_64 = pct_monthly_50_64.rename(columns={\"age_group\": \"50 to 64\"})\n",
    "pct_monthly_65_up = pct_monthly_65_up.rename(columns={\"age_group\": \"65 and up\"})"
   ]
  },
  {
   "cell_type": "code",
   "execution_count": 12,
   "id": "50597652-0b72-4e56-9067-b4dc91917ca1",
   "metadata": {},
   "outputs": [
    {
     "data": {
      "text/html": [
       "<div>\n",
       "<style scoped>\n",
       "    .dataframe tbody tr th:only-of-type {\n",
       "        vertical-align: middle;\n",
       "    }\n",
       "\n",
       "    .dataframe tbody tr th {\n",
       "        vertical-align: top;\n",
       "    }\n",
       "\n",
       "    .dataframe thead th {\n",
       "        text-align: right;\n",
       "    }\n",
       "</style>\n",
       "<table border=\"1\" class=\"dataframe\">\n",
       "  <thead>\n",
       "    <tr style=\"text-align: right;\">\n",
       "      <th></th>\n",
       "      <th>18 to 64</th>\n",
       "      <th>0 to 17</th>\n",
       "      <th>65 and up</th>\n",
       "    </tr>\n",
       "    <tr>\n",
       "      <th>case_month</th>\n",
       "      <th></th>\n",
       "      <th></th>\n",
       "      <th></th>\n",
       "    </tr>\n",
       "  </thead>\n",
       "  <tbody>\n",
       "    <tr>\n",
       "      <th>2020-01</th>\n",
       "      <td>195</td>\n",
       "      <td>12.0</td>\n",
       "      <td>15</td>\n",
       "    </tr>\n",
       "    <tr>\n",
       "      <th>2020-02</th>\n",
       "      <td>213</td>\n",
       "      <td>0.0</td>\n",
       "      <td>51</td>\n",
       "    </tr>\n",
       "    <tr>\n",
       "      <th>2020-03</th>\n",
       "      <td>14554</td>\n",
       "      <td>155.0</td>\n",
       "      <td>3695</td>\n",
       "    </tr>\n",
       "    <tr>\n",
       "      <th>2020-04</th>\n",
       "      <td>33930</td>\n",
       "      <td>1855.0</td>\n",
       "      <td>9822</td>\n",
       "    </tr>\n",
       "    <tr>\n",
       "      <th>2020-05</th>\n",
       "      <td>54386</td>\n",
       "      <td>5805.0</td>\n",
       "      <td>9890</td>\n",
       "    </tr>\n",
       "  </tbody>\n",
       "</table>\n",
       "</div>"
      ],
      "text/plain": [
       "            18 to 64  0 to 17  65 and up\n",
       "case_month                              \n",
       "2020-01          195     12.0         15\n",
       "2020-02          213      0.0         51\n",
       "2020-03        14554    155.0       3695\n",
       "2020-04        33930   1855.0       9822\n",
       "2020-05        54386   5805.0       9890"
      ]
     },
     "execution_count": 12,
     "metadata": {},
     "output_type": "execute_result"
    }
   ],
   "source": [
    "# One frame for all case counts 3 groups\n",
    "frames = [cases_18_64_df, cases_0_17_df, cases_65_up_df]\n",
    "all_ages_cases_df = pd.concat(frames, axis=1).fillna(0).copy()\n",
    "all_ages_cases_df.head()"
   ]
  },
  {
   "cell_type": "code",
   "execution_count": 13,
   "id": "6c8ee423-f55e-4686-996a-f2d4629ce21d",
   "metadata": {},
   "outputs": [
    {
     "data": {
      "text/html": [
       "<div>\n",
       "<style scoped>\n",
       "    .dataframe tbody tr th:only-of-type {\n",
       "        vertical-align: middle;\n",
       "    }\n",
       "\n",
       "    .dataframe tbody tr th {\n",
       "        vertical-align: top;\n",
       "    }\n",
       "\n",
       "    .dataframe thead th {\n",
       "        text-align: right;\n",
       "    }\n",
       "</style>\n",
       "<table border=\"1\" class=\"dataframe\">\n",
       "  <thead>\n",
       "    <tr style=\"text-align: right;\">\n",
       "      <th></th>\n",
       "      <th>18 to 49</th>\n",
       "      <th>0 to 17</th>\n",
       "      <th>50 to 64</th>\n",
       "      <th>65 and up</th>\n",
       "    </tr>\n",
       "    <tr>\n",
       "      <th>case_month</th>\n",
       "      <th></th>\n",
       "      <th></th>\n",
       "      <th></th>\n",
       "      <th></th>\n",
       "    </tr>\n",
       "  </thead>\n",
       "  <tbody>\n",
       "    <tr>\n",
       "      <th>2020-01</th>\n",
       "      <td>152</td>\n",
       "      <td>12.0</td>\n",
       "      <td>43</td>\n",
       "      <td>15</td>\n",
       "    </tr>\n",
       "    <tr>\n",
       "      <th>2020-02</th>\n",
       "      <td>137</td>\n",
       "      <td>0.0</td>\n",
       "      <td>76</td>\n",
       "      <td>51</td>\n",
       "    </tr>\n",
       "    <tr>\n",
       "      <th>2020-03</th>\n",
       "      <td>9392</td>\n",
       "      <td>155.0</td>\n",
       "      <td>5162</td>\n",
       "      <td>3695</td>\n",
       "    </tr>\n",
       "    <tr>\n",
       "      <th>2020-04</th>\n",
       "      <td>22931</td>\n",
       "      <td>1855.0</td>\n",
       "      <td>10999</td>\n",
       "      <td>9822</td>\n",
       "    </tr>\n",
       "    <tr>\n",
       "      <th>2020-05</th>\n",
       "      <td>39754</td>\n",
       "      <td>5805.0</td>\n",
       "      <td>14632</td>\n",
       "      <td>9890</td>\n",
       "    </tr>\n",
       "  </tbody>\n",
       "</table>\n",
       "</div>"
      ],
      "text/plain": [
       "            18 to 49  0 to 17  50 to 64  65 and up\n",
       "case_month                                        \n",
       "2020-01          152     12.0        43         15\n",
       "2020-02          137      0.0        76         51\n",
       "2020-03         9392    155.0      5162       3695\n",
       "2020-04        22931   1855.0     10999       9822\n",
       "2020-05        39754   5805.0     14632       9890"
      ]
     },
     "execution_count": 13,
     "metadata": {},
     "output_type": "execute_result"
    }
   ],
   "source": [
    "# One frame for all case counts 4 groups\n",
    "frames = [cases_18_49_df, cases_0_17_df, cases_50_64_df, cases_65_up_df]\n",
    "all_ages_4_groups_df = pd.concat(frames, axis=1).fillna(0).copy()\n",
    "all_ages_4_groups_df.head()"
   ]
  },
  {
   "cell_type": "code",
   "execution_count": 14,
   "id": "bd3caab8-64e8-4783-9356-5f8ae98606db",
   "metadata": {},
   "outputs": [
    {
     "data": {
      "text/html": [
       "<div>\n",
       "<style scoped>\n",
       "    .dataframe tbody tr th:only-of-type {\n",
       "        vertical-align: middle;\n",
       "    }\n",
       "\n",
       "    .dataframe tbody tr th {\n",
       "        vertical-align: top;\n",
       "    }\n",
       "\n",
       "    .dataframe thead th {\n",
       "        text-align: right;\n",
       "    }\n",
       "</style>\n",
       "<table border=\"1\" class=\"dataframe\">\n",
       "  <thead>\n",
       "    <tr style=\"text-align: right;\">\n",
       "      <th></th>\n",
       "      <th>18 to 64</th>\n",
       "      <th>0 to 17</th>\n",
       "      <th>65 and up</th>\n",
       "    </tr>\n",
       "    <tr>\n",
       "      <th>case_month</th>\n",
       "      <th></th>\n",
       "      <th></th>\n",
       "      <th></th>\n",
       "    </tr>\n",
       "  </thead>\n",
       "  <tbody>\n",
       "    <tr>\n",
       "      <th>2020-01</th>\n",
       "      <td>87.837838</td>\n",
       "      <td>5.405405</td>\n",
       "      <td>6.756757</td>\n",
       "    </tr>\n",
       "    <tr>\n",
       "      <th>2020-02</th>\n",
       "      <td>80.681818</td>\n",
       "      <td>0.000000</td>\n",
       "      <td>19.318182</td>\n",
       "    </tr>\n",
       "    <tr>\n",
       "      <th>2020-03</th>\n",
       "      <td>79.080635</td>\n",
       "      <td>0.842208</td>\n",
       "      <td>20.077157</td>\n",
       "    </tr>\n",
       "    <tr>\n",
       "      <th>2020-04</th>\n",
       "      <td>74.396474</td>\n",
       "      <td>4.067358</td>\n",
       "      <td>21.536168</td>\n",
       "    </tr>\n",
       "    <tr>\n",
       "      <th>2020-05</th>\n",
       "      <td>77.604486</td>\n",
       "      <td>8.283272</td>\n",
       "      <td>14.112242</td>\n",
       "    </tr>\n",
       "  </tbody>\n",
       "</table>\n",
       "</div>"
      ],
      "text/plain": [
       "             18 to 64   0 to 17  65 and up\n",
       "case_month                                \n",
       "2020-01     87.837838  5.405405   6.756757\n",
       "2020-02     80.681818  0.000000  19.318182\n",
       "2020-03     79.080635  0.842208  20.077157\n",
       "2020-04     74.396474  4.067358  21.536168\n",
       "2020-05     77.604486  8.283272  14.112242"
      ]
     },
     "execution_count": 14,
     "metadata": {},
     "output_type": "execute_result"
    }
   ],
   "source": [
    "## One dataframe with monthly percentage of the 3 age groups in demographics. Case month as index\n",
    "frames = [pct_monthly_18_64, pct_monthly_0_17, pct_monthly_65_up]\n",
    "all_ages_pct_df = pd.concat(frames, axis=1).fillna(0).copy()\n",
    "all_ages_pct_df.head()"
   ]
  },
  {
   "cell_type": "code",
   "execution_count": 15,
   "id": "24ba9b6c-8f43-42ae-a859-7b1b37a88669",
   "metadata": {},
   "outputs": [
    {
     "data": {
      "text/html": [
       "<div>\n",
       "<style scoped>\n",
       "    .dataframe tbody tr th:only-of-type {\n",
       "        vertical-align: middle;\n",
       "    }\n",
       "\n",
       "    .dataframe tbody tr th {\n",
       "        vertical-align: top;\n",
       "    }\n",
       "\n",
       "    .dataframe thead th {\n",
       "        text-align: right;\n",
       "    }\n",
       "</style>\n",
       "<table border=\"1\" class=\"dataframe\">\n",
       "  <thead>\n",
       "    <tr style=\"text-align: right;\">\n",
       "      <th></th>\n",
       "      <th>18 to 49</th>\n",
       "      <th>50 to 64</th>\n",
       "      <th>0 to 17</th>\n",
       "      <th>65 and up</th>\n",
       "    </tr>\n",
       "    <tr>\n",
       "      <th>case_month</th>\n",
       "      <th></th>\n",
       "      <th></th>\n",
       "      <th></th>\n",
       "      <th></th>\n",
       "    </tr>\n",
       "  </thead>\n",
       "  <tbody>\n",
       "    <tr>\n",
       "      <th>2020-01</th>\n",
       "      <td>68.468468</td>\n",
       "      <td>19.369369</td>\n",
       "      <td>5.405405</td>\n",
       "      <td>6.756757</td>\n",
       "    </tr>\n",
       "    <tr>\n",
       "      <th>2020-02</th>\n",
       "      <td>51.893939</td>\n",
       "      <td>28.787879</td>\n",
       "      <td>0.000000</td>\n",
       "      <td>19.318182</td>\n",
       "    </tr>\n",
       "    <tr>\n",
       "      <th>2020-03</th>\n",
       "      <td>51.032384</td>\n",
       "      <td>28.048250</td>\n",
       "      <td>0.842208</td>\n",
       "      <td>20.077157</td>\n",
       "    </tr>\n",
       "    <tr>\n",
       "      <th>2020-04</th>\n",
       "      <td>50.279562</td>\n",
       "      <td>24.116912</td>\n",
       "      <td>4.067358</td>\n",
       "      <td>21.536168</td>\n",
       "    </tr>\n",
       "    <tr>\n",
       "      <th>2020-05</th>\n",
       "      <td>56.725789</td>\n",
       "      <td>20.878698</td>\n",
       "      <td>8.283272</td>\n",
       "      <td>14.112242</td>\n",
       "    </tr>\n",
       "  </tbody>\n",
       "</table>\n",
       "</div>"
      ],
      "text/plain": [
       "             18 to 49   50 to 64   0 to 17  65 and up\n",
       "case_month                                           \n",
       "2020-01     68.468468  19.369369  5.405405   6.756757\n",
       "2020-02     51.893939  28.787879  0.000000  19.318182\n",
       "2020-03     51.032384  28.048250  0.842208  20.077157\n",
       "2020-04     50.279562  24.116912  4.067358  21.536168\n",
       "2020-05     56.725789  20.878698  8.283272  14.112242"
      ]
     },
     "execution_count": 15,
     "metadata": {},
     "output_type": "execute_result"
    }
   ],
   "source": [
    "## One dataframe with monthly percentage of the 4 age groups in cases frame. Case month as index\n",
    "frames = [pct_monthly_18_49, pct_monthly_50_64, pct_monthly_0_17, pct_monthly_65_up]\n",
    "all_ages_pct_4_df = pd.concat(frames, axis=1).fillna(0).copy()\n",
    "all_ages_pct_4_df.head()"
   ]
  },
  {
   "cell_type": "code",
   "execution_count": 16,
   "id": "1b1b5c66-35f9-4967-8f6f-5367d3febcf8",
   "metadata": {},
   "outputs": [],
   "source": [
    "# Reorder the age groups sequentially so they plot sequentially in each graph\n",
    "all_ages_cases_df = all_ages_cases_df[[\"0 to 17\", \"18 to 64\", \"65 and up\"]]\n",
    "all_ages_4_groups_df = all_ages_4_groups_df[[\"0 to 17\", \"18 to 49\", \"50 to 64\", \"65 and up\"]]\n",
    "all_ages_pct_df = all_ages_pct_df[[\"0 to 17\", \"18 to 64\", \"65 and up\"]]\n",
    "all_ages_pct_4_df = all_ages_pct_4_df[[\"0 to 17\", \"18 to 49\", \"50 to 64\", \"65 and up\"]]"
   ]
  },
  {
   "cell_type": "markdown",
   "id": "8ccd2626-4e02-40f8-803a-8bcded6461bc",
   "metadata": {},
   "source": [
    "PLOTS: Plot monthly counts of cases per age group, percentage of cases vs percentage of population, stacked counts of cases per age group"
   ]
  },
  {
   "cell_type": "code",
   "execution_count": 17,
   "id": "acb0e4c5-9b90-49c3-8ede-cf630b27ce27",
   "metadata": {},
   "outputs": [],
   "source": [
    "# Identify location of output images\n",
    "output_images = \"../../Images\""
   ]
  },
  {
   "cell_type": "code",
   "execution_count": 18,
   "id": "9c6d3f1f-f968-40f0-b196-7f9829d7e03f",
   "metadata": {},
   "outputs": [
    {
     "data": {
      "image/png": "[encoded data removed]",
      "text/plain": [
       "<Figure size 648x432 with 1 Axes>"
      ]
     },
     "metadata": {
      "needs_background": "light"
     },
     "output_type": "display_data"
    }
   ],
   "source": [
    "plt.figure(figsize=(9,6))\n",
    "plt.plot(all_ages_cases_df.index, all_ages_cases_df[\"0 to 17\"], color=\"blue\")\n",
    "plt.plot(all_ages_cases_df.index, all_ages_cases_df[\"18 to 64\"], color=\"orange\")\n",
    "plt.plot(all_ages_cases_df.index, all_ages_cases_df[\"65 and up\"], color=\"green\")\n",
    "plt.title(\"Age Groups Cases over time\", color=\"purple\", fontsize=20)\n",
    "plt.xticks(rotation=\"vertical\")\n",
    "plt.xlabel(\"Month\", fontsize=15)\n",
    "plt.ylabel(\"Cases\", fontsize=15)\n",
    "plt.legend([\"0 to 17\", \"18 to 64\", \"65 and up\"],loc=\"best\")\n",
    "plt.grid(axis=\"y\")\n",
    "plt.savefig(f\"{output_images}/age_groups_monthly_counts.png\")\n",
    "plt.show()"
   ]
  },
  {
   "cell_type": "code",
   "execution_count": 19,
   "id": "e587d131-a5dd-49fe-9681-1c165d52a535",
   "metadata": {},
   "outputs": [
    {
     "data": {
      "image/png": "[encoded data removed]",
      "text/plain": [
       "<Figure size 576x432 with 1 Axes>"
      ]
     },
     "metadata": {
      "needs_background": "light"
     },
     "output_type": "display_data"
    }
   ],
   "source": [
    "# Plot monthly percentage of total cases for 0-17\n",
    "plt.figure(figsize=(8,6))\n",
    "plt.bar(pct_monthly_0_17.index, pct_monthly_0_17[\"0 to 17\"], color=\"blue\")\n",
    "plt.title(f\"Age Group 0-17\\nCovid Cases in CA\", color=\"purple\", fontsize=20)\n",
    "plt.xticks(rotation=\"vertical\")\n",
    "plt.xlabel(\"Month\", fontsize=15)\n",
    "plt.ylabel(\"% of total cases\", fontsize=15)\n",
    "plt.ylim(0, 100)\n",
    "plt.grid(axis=\"y\")\n",
    "plt.axhline(y = pop_pct_CA_0_17,  linestyle = \":\", color=\"purple\")\n",
    "plt.annotate(f\"Group is {round(pop_pct_CA_0_17,1)}% of population\",(0,24),fontsize=15,color=\"purple\")\n",
    "plt.savefig(f\"{output_images}/age_group_0_17_cases.png\")\n",
    "plt.show()"
   ]
  },
  {
   "cell_type": "code",
   "execution_count": 20,
   "id": "72d4f3d3-2dee-4978-89d7-b76c231b4689",
   "metadata": {},
   "outputs": [
    {
     "data": {
      "image/png": "[encoded data removed]",
      "text/plain": [
       "<Figure size 576x432 with 1 Axes>"
      ]
     },
     "metadata": {
      "needs_background": "light"
     },
     "output_type": "display_data"
    }
   ],
   "source": [
    "# Plot monthly percentage of total cases for 18-64\n",
    "plt.figure(figsize=(8,6))\n",
    "plt.bar(pct_monthly_18_64.index, pct_monthly_18_64[\"18 to 64\"], color=\"orange\")\n",
    "plt.title(f\"Age Group 18-64\\nCovid Cases in CA\", color=\"purple\", fontsize=20)\n",
    "plt.xticks(rotation=\"vertical\")\n",
    "plt.xlabel(\"Month\", fontsize=15)\n",
    "plt.ylabel(\"% of total cases\", fontsize=15)\n",
    "plt.ylim(0, 100)\n",
    "plt.grid(axis=\"y\")\n",
    "plt.axhline(y = pop_pct_CA_18_64,  linestyle = \":\", color=\"purple\")\n",
    "plt.annotate(f\"Group is {round(pop_pct_CA_18_64,1)}% of population\",(0,64),fontsize=15,color=\"purple\")\n",
    "plt.savefig(f\"{output_images}/age_group_18_64_cases.png\")\n",
    "plt.show()"
   ]
  },
  {
   "cell_type": "code",
   "execution_count": 21,
   "id": "187389ae-84b0-4887-a393-1b08d001170a",
   "metadata": {},
   "outputs": [
    {
     "data": {
      "image/png": "[encoded data removed]",
      "text/plain": [
       "<Figure size 576x432 with 1 Axes>"
      ]
     },
     "metadata": {
      "needs_background": "light"
     },
     "output_type": "display_data"
    }
   ],
   "source": [
    "# Plot monthly percentage of total cases for 65 and up\n",
    "plt.figure(figsize=(8,6))\n",
    "plt.bar(pct_monthly_65_up.index, pct_monthly_65_up[\"65 and up\"], color=\"green\")\n",
    "plt.title(f\"Age Group 65 and up\\nCovid Cases in CA\", color=\"purple\", fontsize=20)\n",
    "plt.xticks(rotation=\"vertical\")\n",
    "plt.xlabel(\"Month\", fontsize=15)\n",
    "plt.ylabel(\"% of total cases\", fontsize=15)\n",
    "plt.ylim(0, 100)\n",
    "plt.grid(axis=\"y\")\n",
    "plt.axhline(y = pop_pct_CA_65_up,  linestyle = \":\", color=\"purple\")\n",
    "plt.annotate(f\"Group is {round(pop_pct_CA_65_up,1)}% of population\",(7,17),fontsize=15,color=\"purple\")\n",
    "plt.savefig(f\"{output_images}/age_group_65_up_cases.png\")\n",
    "plt.show()"
   ]
  },
  {
   "cell_type": "code",
   "execution_count": 22,
   "id": "e5f160a1-d57a-4e74-89c3-5931f0757764",
   "metadata": {},
   "outputs": [
    {
     "data": {
      "image/png": "[encoded data removed]",
      "text/plain": [
       "<Figure size 576x432 with 1 Axes>"
      ]
     },
     "metadata": {
      "needs_background": "light"
     },
     "output_type": "display_data"
    }
   ],
   "source": [
    "# Plot stacked bar chart of cases by age group monthly (cases data + demographic data)\n",
    "all_ages_cases_df.plot.bar(stacked=True, figsize=(8,6))\n",
    "plt.gcf().axes[0].yaxis.get_major_formatter().set_scientific(False)\n",
    "plt.title(\"Covid Cases by Age Group in CA\", fontsize=20, color=\"purple\")\n",
    "plt.xlabel(\"Month\", fontsize=15)\n",
    "plt.ylabel(\"Cases\", fontsize=15)\n",
    "plt.grid(axis=\"y\")\n",
    "plt.savefig(f\"{output_images}/age_groups_total_stacked_bar.png\")\n",
    "plt.show()"
   ]
  },
  {
   "cell_type": "code",
   "execution_count": 23,
   "id": "9e107c0b-b677-485d-8ed9-af21527d2e3e",
   "metadata": {},
   "outputs": [
    {
     "data": {
      "image/png": "[encoded data removed]",
      "text/plain": [
       "<Figure size 648x432 with 1 Axes>"
      ]
     },
     "metadata": {
      "needs_background": "light"
     },
     "output_type": "display_data"
    }
   ],
   "source": [
    "# Plot stacked bar chart of cases by age group monthly (cases data only, 4 age groups)\n",
    "all_ages_4_groups_df.plot.bar(stacked=True, figsize=(9,6))\n",
    "plt.gcf().axes[0].yaxis.get_major_formatter().set_scientific(False)\n",
    "plt.title(\"Covid Cases by Age Group in CA\", fontsize=20, color=\"purple\")\n",
    "plt.xlabel(\"Month\", fontsize=15)\n",
    "plt.ylabel(\"Cases\", fontsize=15)\n",
    "plt.grid(axis=\"y\")\n",
    "plt.savefig(f\"{output_images}/age_groups_total_4_stacked_bar.png\")\n",
    "plt.show()"
   ]
  },
  {
   "cell_type": "code",
   "execution_count": 24,
   "id": "fda1dbb7-3196-4506-af46-74b8e10bcc87",
   "metadata": {},
   "outputs": [
    {
     "data": {
      "image/png": "[encoded data removed]",
      "text/plain": [
       "<Figure size 864x432 with 1 Axes>"
      ]
     },
     "metadata": {
      "needs_background": "light"
     },
     "output_type": "display_data"
    }
   ],
   "source": [
    "# Unstacked bar chart showing percentage cases by 3 age groups per month\n",
    "all_ages_pct_df.plot.bar(stacked=True, figsize=(12,6))\n",
    "plt.gcf().axes[0].yaxis.get_major_formatter().set_scientific(False)\n",
    "plt.title(\"Covid % Cases by Age Group\", fontsize=20, color=\"purple\")\n",
    "plt.xlabel(\"Month\", fontsize=15)\n",
    "plt.ylim(0,100)\n",
    "plt.ylabel(\"% of Cases\", fontsize=15)\n",
    "plt.grid(axis=\"y\")\n",
    "plt.savefig(f\"{output_images}/age_groups_pct_3_stacked_bar.png\")\n",
    "plt.show()"
   ]
  },
  {
   "cell_type": "code",
   "execution_count": 25,
   "id": "5c45f2be-49bf-4504-942d-d5412e48749e",
   "metadata": {},
   "outputs": [
    {
     "data": {
      "image/png": "[encoded data removed]",
      "text/plain": [
       "<Figure size 864x432 with 1 Axes>"
      ]
     },
     "metadata": {
      "needs_background": "light"
     },
     "output_type": "display_data"
    }
   ],
   "source": [
    "# Unstacked bar chart showing percentage cases by 4 age groups per month\n",
    "all_ages_pct_4_df.plot.bar(stacked=True, figsize=(12,6))\n",
    "plt.title(\"Covid % Cases by Age Group\", fontsize=20, color=\"purple\")\n",
    "plt.xlabel(\"Month\", fontsize=15)\n",
    "plt.ylim(0,100)\n",
    "plt.ylabel(\"% of Cases\", fontsize=15)\n",
    "plt.grid(axis=\"y\")\n",
    "plt.savefig(f\"{output_images}/age_groups_pct_4_stacked_bar.png\")\n",
    "plt.show()"
   ]
  },
  {
   "cell_type": "code",
   "execution_count": null,
   "id": "f3c0029f-f78e-4039-928b-4c9e3122c27b",
   "metadata": {},
   "outputs": [],
   "source": []
  }
 ],
 "metadata": {
  "kernelspec": {
   "display_name": "Python 3",
   "language": "python",
   "name": "python3"
  },
  "language_info": {
   "codemirror_mode": {
    "name": "ipython",
    "version": 3
   },
   "file_extension": ".py",
   "mimetype": "text/x-python",
   "name": "python",
   "nbconvert_exporter": "python",
   "pygments_lexer": "ipython3",
   "version": "3.8.8"
  }
 },
 "nbformat": 4,
 "nbformat_minor": 5
}
