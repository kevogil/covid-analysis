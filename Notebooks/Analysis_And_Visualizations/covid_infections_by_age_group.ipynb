{
 "cells": [
  {
   "cell_type": "code",
   "execution_count": 1,
   "id": "1104f81a-4ddb-4f97-b72a-679efdd186e6",
   "metadata": {},
   "outputs": [],
   "source": [
    "# import the various modules needed\n",
    "%matplotlib inline\n",
    "import pandas as pd\n",
    "import matplotlib.pyplot as plt\n",
    "import pathlib\n",
    "import numpy as np"
   ]
  },
  {
   "cell_type": "code",
   "execution_count": 2,
   "id": "9affc947-eb15-4172-b557-29237ec19c08",
   "metadata": {},
   "outputs": [
    {
     "data": {
      "text/html": [
       "<div>\n",
       "<style scoped>\n",
       "    .dataframe tbody tr th:only-of-type {\n",
       "        vertical-align: middle;\n",
       "    }\n",
       "\n",
       "    .dataframe tbody tr th {\n",
       "        vertical-align: top;\n",
       "    }\n",
       "\n",
       "    .dataframe thead th {\n",
       "        text-align: right;\n",
       "    }\n",
       "</style>\n",
       "<table border=\"1\" class=\"dataframe\">\n",
       "  <thead>\n",
       "    <tr style=\"text-align: right;\">\n",
       "      <th></th>\n",
       "      <th>FIPS Code</th>\n",
       "      <th>County</th>\n",
       "      <th>Cumulative Cases (2020-02-01 - 2021-31-07)</th>\n",
       "      <th>Cumulative Deaths (2020-02-01 - 2021-31-07)</th>\n",
       "      <th>Cumulative Deaths /Cases (calculated by EK)</th>\n",
       "      <th>Cases per capita (calculated by EK)</th>\n",
       "      <th>Deaths per capita (calculated by EK)</th>\n",
       "      <th>Total Population</th>\n",
       "      <th>Population density (people per sq. mile):\\t</th>\n",
       "      <th>Pop % Less Than 18 Years of Age</th>\n",
       "      <th>...</th>\n",
       "      <th># Uninsured (Adults)</th>\n",
       "      <th>% Uninsured (Adults)</th>\n",
       "      <th>% Uninsured (Adults) Error Margin</th>\n",
       "      <th># Uninsured (Children)</th>\n",
       "      <th>% Uninsured (Children)</th>\n",
       "      <th>% Uninsured (Children) Error Margin</th>\n",
       "      <th>% Frequent Mental Distress</th>\n",
       "      <th>% Frequent Mental Distress Error Margin</th>\n",
       "      <th>% Frequent Physical Distress</th>\n",
       "      <th>% Frequent Physical Distress Error Margin</th>\n",
       "    </tr>\n",
       "  </thead>\n",
       "  <tbody>\n",
       "    <tr>\n",
       "      <th>53</th>\n",
       "      <td>6107</td>\n",
       "      <td>Tulare</td>\n",
       "      <td>50626</td>\n",
       "      <td>854</td>\n",
       "      <td>0.016869</td>\n",
       "      <td>0.108594</td>\n",
       "      <td>0.001832</td>\n",
       "      <td>466,195</td>\n",
       "      <td>96.63</td>\n",
       "      <td>30.5</td>\n",
       "      <td>...</td>\n",
       "      <td>31,986</td>\n",
       "      <td>12</td>\n",
       "      <td>11-13%</td>\n",
       "      <td>4,593</td>\n",
       "      <td>3</td>\n",
       "      <td>2-4%</td>\n",
       "      <td>16</td>\n",
       "      <td>14-17%</td>\n",
       "      <td>17</td>\n",
       "      <td>16-18%</td>\n",
       "    </tr>\n",
       "    <tr>\n",
       "      <th>54</th>\n",
       "      <td>6109</td>\n",
       "      <td>Tuolumne</td>\n",
       "      <td>4522</td>\n",
       "      <td>59</td>\n",
       "      <td>0.013047</td>\n",
       "      <td>0.083006</td>\n",
       "      <td>0.001083</td>\n",
       "      <td>54,478</td>\n",
       "      <td>24.53</td>\n",
       "      <td>16.8</td>\n",
       "      <td>...</td>\n",
       "      <td>2,072</td>\n",
       "      <td>7</td>\n",
       "      <td>6-9%</td>\n",
       "      <td>275</td>\n",
       "      <td>3</td>\n",
       "      <td>2-4%</td>\n",
       "      <td>14</td>\n",
       "      <td>13-16%</td>\n",
       "      <td>13</td>\n",
       "      <td>12-15%</td>\n",
       "    </tr>\n",
       "    <tr>\n",
       "      <th>55</th>\n",
       "      <td>6111</td>\n",
       "      <td>Ventura</td>\n",
       "      <td>84114</td>\n",
       "      <td>1036</td>\n",
       "      <td>0.012317</td>\n",
       "      <td>0.099425</td>\n",
       "      <td>0.001225</td>\n",
       "      <td>846,006</td>\n",
       "      <td>459.17</td>\n",
       "      <td>22.6</td>\n",
       "      <td>...</td>\n",
       "      <td>61,204</td>\n",
       "      <td>12</td>\n",
       "      <td>11-13%</td>\n",
       "      <td>6,301</td>\n",
       "      <td>3</td>\n",
       "      <td>2-4%</td>\n",
       "      <td>12</td>\n",
       "      <td>11-14%</td>\n",
       "      <td>12</td>\n",
       "      <td>11-14%</td>\n",
       "    </tr>\n",
       "    <tr>\n",
       "      <th>56</th>\n",
       "      <td>6113</td>\n",
       "      <td>Yolo</td>\n",
       "      <td>15069</td>\n",
       "      <td>215</td>\n",
       "      <td>0.014268</td>\n",
       "      <td>0.068340</td>\n",
       "      <td>0.000975</td>\n",
       "      <td>220,500</td>\n",
       "      <td>217.3</td>\n",
       "      <td>20.8</td>\n",
       "      <td>...</td>\n",
       "      <td>11,368</td>\n",
       "      <td>8</td>\n",
       "      <td>7-9%</td>\n",
       "      <td>1,323</td>\n",
       "      <td>3</td>\n",
       "      <td>2-4%</td>\n",
       "      <td>13</td>\n",
       "      <td>12-14%</td>\n",
       "      <td>13</td>\n",
       "      <td>11-14%</td>\n",
       "    </tr>\n",
       "    <tr>\n",
       "      <th>57</th>\n",
       "      <td>6115</td>\n",
       "      <td>Yuba</td>\n",
       "      <td>6730</td>\n",
       "      <td>49</td>\n",
       "      <td>0.007281</td>\n",
       "      <td>0.085549</td>\n",
       "      <td>0.000623</td>\n",
       "      <td>78,668</td>\n",
       "      <td>124.47</td>\n",
       "      <td>27.4</td>\n",
       "      <td>...</td>\n",
       "      <td>4,632</td>\n",
       "      <td>10</td>\n",
       "      <td>9-12%</td>\n",
       "      <td>607</td>\n",
       "      <td>3</td>\n",
       "      <td>2-4%</td>\n",
       "      <td>15</td>\n",
       "      <td>14-16%</td>\n",
       "      <td>15</td>\n",
       "      <td>14-16%</td>\n",
       "    </tr>\n",
       "  </tbody>\n",
       "</table>\n",
       "<p>5 rows × 54 columns</p>\n",
       "</div>"
      ],
      "text/plain": [
       "    FIPS Code    County  Cumulative Cases (2020-02-01 - 2021-31-07)  \\\n",
       "53       6107    Tulare                                       50626   \n",
       "54       6109  Tuolumne                                        4522   \n",
       "55       6111   Ventura                                       84114   \n",
       "56       6113      Yolo                                       15069   \n",
       "57       6115      Yuba                                        6730   \n",
       "\n",
       "    Cumulative Deaths (2020-02-01 - 2021-31-07)  \\\n",
       "53                                          854   \n",
       "54                                           59   \n",
       "55                                         1036   \n",
       "56                                          215   \n",
       "57                                           49   \n",
       "\n",
       "    Cumulative Deaths /Cases (calculated by EK)  \\\n",
       "53                                     0.016869   \n",
       "54                                     0.013047   \n",
       "55                                     0.012317   \n",
       "56                                     0.014268   \n",
       "57                                     0.007281   \n",
       "\n",
       "    Cases per capita (calculated by EK)  Deaths per capita (calculated by EK)  \\\n",
       "53                             0.108594                              0.001832   \n",
       "54                             0.083006                              0.001083   \n",
       "55                             0.099425                              0.001225   \n",
       "56                             0.068340                              0.000975   \n",
       "57                             0.085549                              0.000623   \n",
       "\n",
       "   Total Population Population density (people per sq. mile):\\t  \\\n",
       "53          466,195                                       96.63   \n",
       "54           54,478                                       24.53   \n",
       "55          846,006                                      459.17   \n",
       "56          220,500                                       217.3   \n",
       "57           78,668                                      124.47   \n",
       "\n",
       "    Pop % Less Than 18 Years of Age  ...  # Uninsured (Adults)  \\\n",
       "53                             30.5  ...                31,986   \n",
       "54                             16.8  ...                 2,072   \n",
       "55                             22.6  ...                61,204   \n",
       "56                             20.8  ...                11,368   \n",
       "57                             27.4  ...                 4,632   \n",
       "\n",
       "   % Uninsured (Adults)  % Uninsured (Adults) Error Margin  \\\n",
       "53                   12                             11-13%   \n",
       "54                    7                               6-9%   \n",
       "55                   12                             11-13%   \n",
       "56                    8                               7-9%   \n",
       "57                   10                              9-12%   \n",
       "\n",
       "   # Uninsured (Children)  % Uninsured (Children)  \\\n",
       "53                  4,593                       3   \n",
       "54                    275                       3   \n",
       "55                  6,301                       3   \n",
       "56                  1,323                       3   \n",
       "57                    607                       3   \n",
       "\n",
       "   % Uninsured (Children) Error Margin  % Frequent Mental Distress  \\\n",
       "53                                2-4%                          16   \n",
       "54                                2-4%                          14   \n",
       "55                                2-4%                          12   \n",
       "56                                2-4%                          13   \n",
       "57                                2-4%                          15   \n",
       "\n",
       "   % Frequent Mental Distress Error Margin  % Frequent Physical Distress  \\\n",
       "53                                  14-17%                            17   \n",
       "54                                  13-16%                            13   \n",
       "55                                  11-14%                            12   \n",
       "56                                  12-14%                            13   \n",
       "57                                  14-16%                            15   \n",
       "\n",
       "   % Frequent Physical Distress Error Margin  \n",
       "53                                    16-18%  \n",
       "54                                    12-15%  \n",
       "55                                    11-14%  \n",
       "56                                    11-14%  \n",
       "57                                    14-16%  \n",
       "\n",
       "[5 rows x 54 columns]"
      ]
     },
     "execution_count": 2,
     "metadata": {},
     "output_type": "execute_result"
    }
   ],
   "source": [
    "# Read demographics data into dataframe and drop last line containing NaN\n",
    "demographfile = \"../../Resources/Clean/ca_county_demographic_data-20210804.csv\"\n",
    "demograph_df = pd.read_csv(demographfile).dropna(subset=[\"FIPS Code\"])\n",
    "demograph_df.tail()"
   ]
  },
  {
   "cell_type": "code",
   "execution_count": 3,
   "id": "3586daf9-2326-4eb3-880e-1eba852f2720",
   "metadata": {},
   "outputs": [],
   "source": [
    "# Fix data types in demographics dataframe\n",
    "demograph_df[\"Total Population\"] = demograph_df[\"Total Population\"].str.replace(',', '').astype(float)\n",
    "# Get age related subset of columns needed for analysis\n",
    "demo_age_df = demograph_df[[\"County\",\"Total Population\",\"Pop % 65 and Over\", \"Pop % Less Than 18 Years of Age\"]].copy()\n",
    "# Additional calculated columns needed"
   ]
  },
  {
   "cell_type": "code",
   "execution_count": 4,
   "id": "41ad20cb-bbc0-4456-bfe5-aa6ce90da3a1",
   "metadata": {},
   "outputs": [
    {
     "data": {
      "text/html": [
       "<div>\n",
       "<style scoped>\n",
       "    .dataframe tbody tr th:only-of-type {\n",
       "        vertical-align: middle;\n",
       "    }\n",
       "\n",
       "    .dataframe tbody tr th {\n",
       "        vertical-align: top;\n",
       "    }\n",
       "\n",
       "    .dataframe thead th {\n",
       "        text-align: right;\n",
       "    }\n",
       "</style>\n",
       "<table border=\"1\" class=\"dataframe\">\n",
       "  <thead>\n",
       "    <tr style=\"text-align: right;\">\n",
       "      <th></th>\n",
       "      <th>County</th>\n",
       "      <th>Total Population</th>\n",
       "      <th>Pop % 65 and Over</th>\n",
       "      <th>Pop % Less Than 18 Years of Age</th>\n",
       "    </tr>\n",
       "  </thead>\n",
       "  <tbody>\n",
       "    <tr>\n",
       "      <th>0</th>\n",
       "      <td>Alameda</td>\n",
       "      <td>1671329.0</td>\n",
       "      <td>14.3</td>\n",
       "      <td>20.3</td>\n",
       "    </tr>\n",
       "    <tr>\n",
       "      <th>1</th>\n",
       "      <td>Alpine</td>\n",
       "      <td>1129.0</td>\n",
       "      <td>26.4</td>\n",
       "      <td>17.7</td>\n",
       "    </tr>\n",
       "    <tr>\n",
       "      <th>2</th>\n",
       "      <td>Amador</td>\n",
       "      <td>39752.0</td>\n",
       "      <td>27.5</td>\n",
       "      <td>15.1</td>\n",
       "    </tr>\n",
       "    <tr>\n",
       "      <th>3</th>\n",
       "      <td>Butte</td>\n",
       "      <td>219186.0</td>\n",
       "      <td>18.4</td>\n",
       "      <td>20.3</td>\n",
       "    </tr>\n",
       "    <tr>\n",
       "      <th>4</th>\n",
       "      <td>Calaveras</td>\n",
       "      <td>45905.0</td>\n",
       "      <td>28.0</td>\n",
       "      <td>17.1</td>\n",
       "    </tr>\n",
       "  </tbody>\n",
       "</table>\n",
       "</div>"
      ],
      "text/plain": [
       "      County  Total Population  Pop % 65 and Over  \\\n",
       "0    Alameda         1671329.0               14.3   \n",
       "1     Alpine            1129.0               26.4   \n",
       "2     Amador           39752.0               27.5   \n",
       "3      Butte          219186.0               18.4   \n",
       "4  Calaveras           45905.0               28.0   \n",
       "\n",
       "   Pop % Less Than 18 Years of Age  \n",
       "0                             20.3  \n",
       "1                             17.7  \n",
       "2                             15.1  \n",
       "3                             20.3  \n",
       "4                             17.1  "
      ]
     },
     "execution_count": 4,
     "metadata": {},
     "output_type": "execute_result"
    }
   ],
   "source": [
    "demo_age_df.head()"
   ]
  },
  {
   "cell_type": "code",
   "execution_count": 5,
   "id": "7a514302-cc04-4325-a3dc-bad4bc294d1b",
   "metadata": {},
   "outputs": [
    {
     "data": {
      "text/html": [
       "<div>\n",
       "<style scoped>\n",
       "    .dataframe tbody tr th:only-of-type {\n",
       "        vertical-align: middle;\n",
       "    }\n",
       "\n",
       "    .dataframe tbody tr th {\n",
       "        vertical-align: top;\n",
       "    }\n",
       "\n",
       "    .dataframe thead th {\n",
       "        text-align: right;\n",
       "    }\n",
       "</style>\n",
       "<table border=\"1\" class=\"dataframe\">\n",
       "  <thead>\n",
       "    <tr style=\"text-align: right;\">\n",
       "      <th></th>\n",
       "      <th>County</th>\n",
       "      <th>Total Population</th>\n",
       "      <th>Pop % 65 and Over</th>\n",
       "      <th>Pop % Less Than 18 Years of Age</th>\n",
       "      <th>Pop # 0 to 17</th>\n",
       "      <th>Pop # 18 to 64</th>\n",
       "      <th>Pop # 65 to up</th>\n",
       "    </tr>\n",
       "  </thead>\n",
       "  <tbody>\n",
       "    <tr>\n",
       "      <th>0</th>\n",
       "      <td>Alameda</td>\n",
       "      <td>1671329.0</td>\n",
       "      <td>14.3</td>\n",
       "      <td>20.3</td>\n",
       "      <td>339279.787</td>\n",
       "      <td>1093049.166</td>\n",
       "      <td>239000.047</td>\n",
       "    </tr>\n",
       "    <tr>\n",
       "      <th>1</th>\n",
       "      <td>Alpine</td>\n",
       "      <td>1129.0</td>\n",
       "      <td>26.4</td>\n",
       "      <td>17.7</td>\n",
       "      <td>199.833</td>\n",
       "      <td>631.111</td>\n",
       "      <td>298.056</td>\n",
       "    </tr>\n",
       "    <tr>\n",
       "      <th>2</th>\n",
       "      <td>Amador</td>\n",
       "      <td>39752.0</td>\n",
       "      <td>27.5</td>\n",
       "      <td>15.1</td>\n",
       "      <td>6002.552</td>\n",
       "      <td>22817.648</td>\n",
       "      <td>10931.800</td>\n",
       "    </tr>\n",
       "    <tr>\n",
       "      <th>3</th>\n",
       "      <td>Butte</td>\n",
       "      <td>219186.0</td>\n",
       "      <td>18.4</td>\n",
       "      <td>20.3</td>\n",
       "      <td>44494.758</td>\n",
       "      <td>134361.018</td>\n",
       "      <td>40330.224</td>\n",
       "    </tr>\n",
       "    <tr>\n",
       "      <th>4</th>\n",
       "      <td>Calaveras</td>\n",
       "      <td>45905.0</td>\n",
       "      <td>28.0</td>\n",
       "      <td>17.1</td>\n",
       "      <td>7849.755</td>\n",
       "      <td>25201.845</td>\n",
       "      <td>12853.400</td>\n",
       "    </tr>\n",
       "  </tbody>\n",
       "</table>\n",
       "</div>"
      ],
      "text/plain": [
       "      County  Total Population  Pop % 65 and Over  \\\n",
       "0    Alameda         1671329.0               14.3   \n",
       "1     Alpine            1129.0               26.4   \n",
       "2     Amador           39752.0               27.5   \n",
       "3      Butte          219186.0               18.4   \n",
       "4  Calaveras           45905.0               28.0   \n",
       "\n",
       "   Pop % Less Than 18 Years of Age  Pop # 0 to 17  Pop # 18 to 64  \\\n",
       "0                             20.3     339279.787     1093049.166   \n",
       "1                             17.7        199.833         631.111   \n",
       "2                             15.1       6002.552       22817.648   \n",
       "3                             20.3      44494.758      134361.018   \n",
       "4                             17.1       7849.755       25201.845   \n",
       "\n",
       "   Pop # 65 to up  \n",
       "0      239000.047  \n",
       "1         298.056  \n",
       "2       10931.800  \n",
       "3       40330.224  \n",
       "4       12853.400  "
      ]
     },
     "execution_count": 5,
     "metadata": {},
     "output_type": "execute_result"
    }
   ],
   "source": [
    "# Extrapolate population totals in each county for age groups and add to age groups dataframe\n",
    "pop_total_count  = demo_age_df[\"Total Population\"]\n",
    "pop_pct_under_18 = demo_age_df[\"Pop % Less Than 18 Years of Age\"]\n",
    "pop_pct_over_65  = demo_age_df[\"Pop % 65 and Over\"]\n",
    "demo_age_df[\"Pop # 0 to 17\"]  = pop_total_count * pop_pct_under_18 / 100\n",
    "demo_age_df[\"Pop # 18 to 64\"] = pop_total_count * (100 - pop_pct_under_18 - pop_pct_over_65) / 100\n",
    "demo_age_df[\"Pop # 65 to up\"] = pop_total_count * pop_pct_over_65 / 100\n",
    "demo_age_df.head()"
   ]
  },
  {
   "cell_type": "code",
   "execution_count": 6,
   "id": "83eccdbc-d513-48b7-93f3-29e4517d86c5",
   "metadata": {},
   "outputs": [
    {
     "data": {
      "text/plain": [
       "18 to 49 years    2130719\n",
       "50 to 64 years     702472\n",
       "0 - 17 years       484140\n",
       "65+ years          389319\n",
       "Unknown              8377\n",
       "Name: age_group, dtype: int64"
      ]
     },
     "execution_count": 6,
     "metadata": {},
     "output_type": "execute_result"
    }
   ],
   "source": [
    "# Read the monthly cases data into dataframe\n",
    "cases_file = \"../../Resources/Clean/ca_data_df.csv\"\n",
    "cases_df = pd.read_csv(cases_file)\n",
    "cases_df[\"age_group\"].value_counts()"
   ]
  },
  {
   "cell_type": "code",
   "execution_count": 7,
   "id": "8522948d-53fd-44f8-8225-aa48da48c9c1",
   "metadata": {},
   "outputs": [
    {
     "data": {
      "text/html": [
       "<div>\n",
       "<style scoped>\n",
       "    .dataframe tbody tr th:only-of-type {\n",
       "        vertical-align: middle;\n",
       "    }\n",
       "\n",
       "    .dataframe tbody tr th {\n",
       "        vertical-align: top;\n",
       "    }\n",
       "\n",
       "    .dataframe thead th {\n",
       "        text-align: right;\n",
       "    }\n",
       "</style>\n",
       "<table border=\"1\" class=\"dataframe\">\n",
       "  <thead>\n",
       "    <tr style=\"text-align: right;\">\n",
       "      <th></th>\n",
       "      <th>case_month</th>\n",
       "      <th>age_group</th>\n",
       "      <th>sex</th>\n",
       "    </tr>\n",
       "  </thead>\n",
       "  <tbody>\n",
       "    <tr>\n",
       "      <th>0</th>\n",
       "      <td>2020-12</td>\n",
       "      <td>0 - 17 years</td>\n",
       "      <td>Female</td>\n",
       "    </tr>\n",
       "    <tr>\n",
       "      <th>1</th>\n",
       "      <td>2021-03</td>\n",
       "      <td>0 - 17 years</td>\n",
       "      <td>Female</td>\n",
       "    </tr>\n",
       "    <tr>\n",
       "      <th>2</th>\n",
       "      <td>2021-01</td>\n",
       "      <td>0 - 17 years</td>\n",
       "      <td>Male</td>\n",
       "    </tr>\n",
       "    <tr>\n",
       "      <th>3</th>\n",
       "      <td>2020-11</td>\n",
       "      <td>18 to 49 years</td>\n",
       "      <td>Male</td>\n",
       "    </tr>\n",
       "    <tr>\n",
       "      <th>4</th>\n",
       "      <td>2021-01</td>\n",
       "      <td>65+ years</td>\n",
       "      <td>Female</td>\n",
       "    </tr>\n",
       "  </tbody>\n",
       "</table>\n",
       "</div>"
      ],
      "text/plain": [
       "  case_month       age_group     sex\n",
       "0    2020-12    0 - 17 years  Female\n",
       "1    2021-03    0 - 17 years  Female\n",
       "2    2021-01    0 - 17 years    Male\n",
       "3    2020-11  18 to 49 years    Male\n",
       "4    2021-01       65+ years  Female"
      ]
     },
     "execution_count": 7,
     "metadata": {},
     "output_type": "execute_result"
    }
   ],
   "source": [
    "# Get subset of cases dataframe for age_group analysis\n",
    "cases_agegroup_df = cases_df[[\"case_month\", \"age_group\", \"sex\"]].copy()\n",
    "cases_agegroup_df.head()"
   ]
  },
  {
   "cell_type": "code",
   "execution_count": 8,
   "id": "ef29ac7e-9020-44be-bde9-255634aa03f3",
   "metadata": {},
   "outputs": [],
   "source": [
    "# Group cases by case_month and count cases.  One dataframe per age group\n",
    "## Filters\n",
    "age_group_0_17  = (cases_agegroup_df[\"age_group\"] == \"0 - 17 years\")\n",
    "age_group_18_49 = (cases_agegroup_df[\"age_group\"] == \"18 to 49 years\")\n",
    "age_group_50_64 = (cases_agegroup_df[\"age_group\"] == \"50 to 64 years\")\n",
    "age_group_18_64 = age_group_18_49 | age_group_50_64\n",
    "age_group_65_up = (cases_agegroup_df[\"age_group\"] == \"65+ years\")\n",
    "\n",
    "## One dataframe per age group. Group by case_month and then count rows.  Include one for grand total\n",
    "cases_0_17_df   = cases_agegroup_df.loc[age_group_0_17].groupby(by=\"case_month\").count().copy()\n",
    "cases_18_49_df  = cases_agegroup_df.loc[age_group_18_49].groupby(by=\"case_month\").count().copy()\n",
    "cases_50_64_df  = cases_agegroup_df.loc[age_group_50_64].groupby(by=\"case_month\").count().copy()\n",
    "cases_18_64_df  = cases_agegroup_df.loc[age_group_18_64].groupby(by=\"case_month\").count().copy()\n",
    "cases_65_up_df  = cases_agegroup_df.loc[age_group_65_up].groupby(by=\"case_month\").count().copy()\n",
    "cases_total_df  = (cases_agegroup_df                    .groupby(by=\"case_month\").count().copy())"
   ]
  },
  {
   "cell_type": "code",
   "execution_count": 9,
   "id": "0d3225cd-8f83-4e53-adc3-97746875e5ed",
   "metadata": {},
   "outputs": [
    {
     "data": {
      "text/plain": [
       "County              AlamedaAlpineAmadorButteCalaverasColusaContra ...\n",
       "Total Population                                           39512223.0\n",
       "Pop # 0 to 17                                               8898202.0\n",
       "Pop # 18 to 64                                             24774548.0\n",
       "Pop # 65 to up                                              5839475.0\n",
       "dtype: object"
      ]
     },
     "execution_count": 9,
     "metadata": {},
     "output_type": "execute_result"
    }
   ],
   "source": [
    "# Sum all county populations for each age group to get CA counts per age group, do the same to get total CA population\n",
    "demo_age_summary = demo_age_df[[\"County\", \"Total Population\", \"Pop # 0 to 17\", \"Pop # 18 to 64\", \"Pop # 65 to up\"]].round().sum()\n",
    "demo_age_summary"
   ]
  },
  {
   "cell_type": "code",
   "execution_count": 10,
   "id": "8476a5f6-936b-4cbc-a032-4d4dc219ef52",
   "metadata": {},
   "outputs": [
    {
     "data": {
      "text/plain": [
       "(22.520124974998243, 62.70097230419053, 14.778907782536052)"
      ]
     },
     "execution_count": 10,
     "metadata": {},
     "output_type": "execute_result"
    }
   ],
   "source": [
    "# Calculate percent of total California population that each age group represents\n",
    "## Give shorter friendlier names for specific columns\n",
    "pop_CA_0_17 = demo_age_summary[\"Pop # 0 to 17\"]\n",
    "pop_CA_18_64 = demo_age_summary[\"Pop # 18 to 64\"]\n",
    "pop_CA_65_up = demo_age_summary[\"Pop # 65 to up\"]\n",
    "pop_CA_total = demo_age_summary[\"Total Population\"]\n",
    "\n",
    "## Calculate and print population percentages for each age group\n",
    "pop_pct_CA_0_17  = pop_CA_0_17  * 100 / pop_CA_total\n",
    "pop_pct_CA_18_64 = pop_CA_18_64 * 100 / pop_CA_total\n",
    "pop_pct_CA_65_up = pop_CA_65_up * 100 / pop_CA_total\n",
    "pop_pct_CA_0_17, pop_pct_CA_18_64, pop_pct_CA_65_up"
   ]
  },
  {
   "cell_type": "code",
   "execution_count": 11,
   "id": "f5db582a-55ee-4dde-9057-84bd2bfc5f89",
   "metadata": {},
   "outputs": [],
   "source": [
    "# Calculate percent of total cases per month that each age group comprised\n",
    "pct_monthly_0_17  = (cases_0_17_df * 100 / cases_total_df).rename(columns={\"age_group\": \"age_0_17\"}).drop(columns=\"sex\")\n",
    "pct_monthly_18_64 = (cases_18_64_df * 100 / cases_total_df).rename(columns={\"age_group\": \"age_18_64\"}).drop(columns=\"sex\")\n",
    "pct_monthly_65_up = (cases_65_up_df * 100 / cases_total_df).rename(columns={\"age_group\": \"age_65_up\"}).drop(columns=\"sex\")"
   ]
  },
  {
   "cell_type": "code",
   "execution_count": 14,
   "id": "acb0e4c5-9b90-49c3-8ede-cf630b27ce27",
   "metadata": {},
   "outputs": [],
   "source": [
    "# Indicate location of output images\n",
    "output_images = \"../../Images\""
   ]
  },
  {
   "cell_type": "code",
   "execution_count": 15,
   "id": "9c6d3f1f-f968-40f0-b196-7f9829d7e03f",
   "metadata": {},
   "outputs": [
    {
     "data": {
      "image/png": "[encoded data removed]",
      "text/plain": [
       "<Figure size 432x288 with 1 Axes>"
      ]
     },
     "metadata": {
      "needs_background": "light"
     },
     "output_type": "display_data"
    }
   ],
   "source": [
    "# Plot monthly count of infections per age group (0-17)\n",
    "plt.plot(cases_0_17_df.index, cases_0_17_df[\"age_group\"], color=\"gold\")\n",
    "plt.title(\"Age Group 0-17 Infection over time\", color=\"green\", fontsize=20)\n",
    "plt.xticks(rotation=\"vertical\")\n",
    "plt.xlabel(\"Pandemic Month\")\n",
    "plt.ylabel(\"Cases\")\n",
    "plt.savefig(f\"{output_images}/age_group_0_17_counts.png\")\n",
    "plt.show()"
   ]
  },
  {
   "cell_type": "code",
   "execution_count": 17,
   "id": "e587d131-a5dd-49fe-9681-1c165d52a535",
   "metadata": {},
   "outputs": [
    {
     "data": {
      "image/png": "[encoded data removed]",
      "text/plain": [
       "<Figure size 432x288 with 1 Axes>"
      ]
     },
     "metadata": {
      "needs_background": "light"
     },
     "output_type": "display_data"
    }
   ],
   "source": [
    "# Plot monthly percentage of total infections for 0-17\n",
    "plt.plot(pct_monthly_0_17.index, pct_monthly_0_17[\"age_0_17\"], color=\"red\")\n",
    "plt.title(\"Age Group 0-17 % of Infection cases over time\", color=\"green\", fontsize=20)\n",
    "plt.xticks(rotation=\"vertical\")\n",
    "plt.xlabel(\"Pandemic Month\")\n",
    "plt.ylabel(\"% of total infections\")\n",
    "plt.ylim(0, 100)\n",
    "plt.axhline(y = pop_pct_CA_0_17,  color=\"green\")\n",
    "plt.savefig(f\"{output_images}/age_group_0_17_infect.png\")\n",
    "plt.show()"
   ]
  },
  {
   "cell_type": "code",
   "execution_count": 18,
   "id": "62e806e6-fa01-4fb4-8877-18a4d4211933",
   "metadata": {},
   "outputs": [
    {
     "data": {
      "image/png": "[encoded data removed]",
      "text/plain": [
       "<Figure size 432x288 with 1 Axes>"
      ]
     },
     "metadata": {
      "needs_background": "light"
     },
     "output_type": "display_data"
    }
   ],
   "source": [
    "# Plot montly percentage of total infections for 18-64\n",
    "plt.plot(pct_monthly_18_64.index, pct_monthly_18_64[\"age_18_64\"], color=\"red\")\n",
    "plt.title(\"Age Group 18-64 % of Infection cases over time\", color=\"green\", fontsize=20)\n",
    "plt.xticks(rotation=\"vertical\")\n",
    "plt.xlabel(\"Pandemic Month\")\n",
    "plt.ylabel(\"% of total infections\")\n",
    "plt.ylim(0, 100)\n",
    "plt.axhline(y = pop_pct_CA_18_64,  color=\"green\")\n",
    "plt.savefig(f\"{output_images}/age_group_18_64_infect.png\")\n",
    "plt.show()"
   ]
  },
  {
   "cell_type": "code",
   "execution_count": 19,
   "id": "16e41323-0204-4c7b-aeab-a1ee58394c5f",
   "metadata": {},
   "outputs": [
    {
     "data": {
      "image/png": "[encoded data removed]",
      "text/plain": [
       "<Figure size 432x288 with 1 Axes>"
      ]
     },
     "metadata": {
      "needs_background": "light"
     },
     "output_type": "display_data"
    }
   ],
   "source": [
    "# Plot montly percentage of total infections for 65-up\n",
    "plt.plot(pct_monthly_65_up.index, pct_monthly_65_up[\"age_65_up\"], color=\"red\")\n",
    "plt.title(\"Age Group 65+ % of Infection cases over time\", color=\"green\", fontsize=20)\n",
    "plt.xticks(rotation=\"vertical\")\n",
    "plt.xlabel(\"Pandemic Month\")\n",
    "plt.ylabel(\"% of total infections\")\n",
    "plt.ylim(0, 100)\n",
    "plt.axhline(y = pop_pct_CA_65_up,  color=\"green\")\n",
    "plt.savefig(f\"{output_images}/age_group_65_up_infect.png\")\n",
    "plt.show()"
   ]
  }
 ],
 "metadata": {
  "kernelspec": {
   "display_name": "Python 3",
   "language": "python",
   "name": "python3"
  },
  "language_info": {
   "codemirror_mode": {
    "name": "ipython",
    "version": 3
   },
   "file_extension": ".py",
   "mimetype": "text/x-python",
   "name": "python",
   "nbconvert_exporter": "python",
   "pygments_lexer": "ipython3",
   "version": "3.8.8"
  }
 },
 "nbformat": 4,
 "nbformat_minor": 5
}
